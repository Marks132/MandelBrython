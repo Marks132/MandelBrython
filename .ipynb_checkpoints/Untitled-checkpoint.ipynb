{
 "cells": [
  {
   "cell_type": "markdown",
   "id": "90ccb918",
   "metadata": {
    "pycharm": {
     "name": "#%% md\n"
    }
   },
   "source": [
    "# <center>Fractale de Mandelbrot avec python (MandelBrython)\n",
    "#### <center>Realisé en collaboration par Hani Houmimid et Maxime Caillaud du groupe Andromeda \n",
    "\n",
    "    \n",
    "Ici vous sera presenté le meilleur rendu du groupe Andromeda pour la SAE 2.02 sur le sujet des fractales de Mandelbrot\n",
    "    \n",
    "Les consignes pour notre sujet sont les suivantes :\n",
    "* __Niveau de difficulté :__ ☆☆☆\n",
    "* __Description :__ Fractale de Mandelbrot\n",
    "* __Animation__: Réaliser un zoom sur un point remarquable"
   ]
  }
 ],
 "metadata": {
  "kernelspec": {
   "display_name": "Python 3 (ipykernel)",
   "language": "python",
   "name": "python3"
  },
  "language_info": {
   "codemirror_mode": {
    "name": "ipython",
    "version": 3
   },
   "file_extension": ".py",
   "mimetype": "text/x-python",
   "name": "python",
   "nbconvert_exporter": "python",
   "pygments_lexer": "ipython3",
   "version": "3.9.7"
  }
 },
 "nbformat": 4,
 "nbformat_minor": 5
}
