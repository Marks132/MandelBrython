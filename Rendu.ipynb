{
 "cells": [
  {
   "cell_type": "markdown",
   "id": "11742f82",
   "metadata": {
    "pycharm": {
     "name": "#%% md\n"
    }
   },
   "source": [
    "# <center>Fractale de Mandelbrot avec python (MandelBrython)\n",
    "#### <center>Realisé en collaboration par Hani Houmimid et Maxime Caillaud du groupe Andromeda "
   ]
  },
  {
   "cell_type": "markdown",
   "id": "d28f35bd",
   "metadata": {
    "pycharm": {
     "name": "#%% md\n"
    }
   },
   "source": [
    "## Notre sujet\n",
    "\n",
    "Ici vous sera présenté le meilleur rendu du groupe Andromeda pour la SAE 2.02 sur le sujet des fractales de Mandelbrot\n",
    "    \n",
    "Les consignes pour notre sujet sont les suivantes :\n",
    "* __Niveau de difficulté :__ ☆☆☆\n",
    "* __Description :__ Fractale de Mandelbrot\n",
    "* __Animation__ : Réaliser un zoom sur un point remarquable\n",
    "\n",
    "Nous nous sommes reparti le travail comme ceci :\n",
    "* __Hani__ : Realisation compte rendu et fractale de Julia\n",
    "* __Maxime__ : Realisation du compte rendu et fractale de Mandelbrot\n",
    "\n",
    "Le travail s'est fait en équipe sur discord et nous avons eu une bonne entente tout le long du projet"
   ]
  },
  {
   "cell_type": "markdown",
   "id": "dd7fc231",
   "metadata": {
    "pycharm": {
     "name": "#%% md\n"
    }
   },
   "source": [
    "## Début de la programmation\n",
    "\n",
    "\n",
    "La première problématique du sujet a été de trouver une librairie adequate pour afficher les fractales étant des images très complexes\n",
    "\n",
    "La solution que nous avons préférée est une librairie nommée PIL permettant de générer des images pixels par pixels de n'importe quelle taille"
   ]
  },
  {
   "cell_type": "code",
   "execution_count": 1,
   "id": "44b44c9b",
   "metadata": {
    "pycharm": {
     "name": "#%%\n"
    }
   },
   "outputs": [],
   "source": [
    "from PIL import Image"
   ]
  },
  {
   "cell_type": "markdown",
   "id": "3aa73305",
   "metadata": {
    "pycharm": {
     "name": "#%% md\n"
    }
   },
   "source": [
    "___\n",
    "# Fractale de Mandelbrot\n",
    "\n",
    "Dans cette partie nous allons nous intéresser d'abord à la fractale de Mandelbrot.\n",
    "\n",
    "### Théorème mathématique\n",
    "\n",
    "Soit un point donné $C(x;y)$ dans un repère orthonormé $O(\\vec{u};\\vec{v})$\n",
    "Pour tout n, on construit une suite de point à partir des coordonnées de $C$,\n",
    "la suite étant défini par les relations suivantes :\n",
    "\\\n",
    "\\\n",
    "    $\\left\\{\n",
    "    \\begin{array}{rl}\n",
    "        x_0 = 0 , y_0 = 0 \\\\\n",
    "        x_n+1 = x^2_n - y^2_n + c_x \\\\\n",
    "        y_n+1 = 2x_ny_n + c_y \\\\\n",
    "    \\end{array}\n",
    "    \\right.$\n",
    "\\\n",
    "\\\n",
    "Pour determiner si le point $C$ appartient à Mandelbrot on calcule simplement la distance $OM_n$ défini par :\n",
    "\\\n",
    "$OM_n = \\sqrt{x^2_n+y^2_n}$\n",
    "\\\n",
    "Nous avons donc une suite de distance $OM$.\n",
    "* Soit la distance $OM_n$ tant vers l'infini quand n tant vers l'infini, donc le point $C$ correspondant n'appartient pas à la suite de Mandelbrot\n",
    "* Soit la distance $OM_n$ reste borné et est inférieur à 2 quand $n$ tant vers l'infini, donc le point $C$ correspondant appartient à la suite de Mandelbrot\n",
    "\n",
    "Nous pouvons donc determiner à present si un point appartient oui ou non a la suite de Mandelbrot."
   ]
  },
  {
   "cell_type": "markdown",
   "id": "ce70348a",
   "metadata": {
    "pycharm": {
     "name": "#%% md\n"
    }
   },
   "source": [
    "### Programmation\n",
    "\n",
    "Pour modéliser la suite de Mandelbrot nous allons donc avoir besoin de plusieurs outils :\n",
    "* Un outil qui génère des point $C$\n",
    "* Un outil qui calcul la suite\n",
    "* Un outil qui vérifie la distance $OM_n$\n",
    "\n",
    "pour cela nous avons plusieurs fonctions :"
   ]
  },
  {
   "cell_type": "code",
   "execution_count": null,
   "id": "642aebbc",
   "metadata": {
    "pycharm": {
     "name": "#%%\n"
    }
   },
   "outputs": [],
   "source": [
    "#Calcul du point C\n",
    "def pointc(x, y, pas=0.001, arrondi=3):\n",
    "    if y == 2:\n",
    "        x = round(x + pas, arrondi)\n",
    "        y = -2\n",
    "    else:\n",
    "        y = round(y + pas, arrondi)\n",
    "    return x, y\n",
    "\n",
    "#  Calcul des suites\n",
    "def suitex(x, y, cx):\n",
    "    x = (x ** 2) - (y ** 2) + cx\n",
    "    return x\n",
    "\n",
    "\n",
    "def suitey(x, y, cy):\n",
    "    y = (2 * x * y) + cy\n",
    "    return y\n",
    "\n",
    "\n",
    "def suite(x, y, cx, cy):\n",
    "    tpx=x\n",
    "    tpy=y\n",
    "    x = suitex(tpx, tpy, cx)\n",
    "    y = suitey(tpx, tpy, cy)\n",
    "    return x, y\n",
    "\n",
    "#Calcul de la distance et verification\n",
    "def distom(x, y):\n",
    "    om = x ** 2 + y ** 2\n",
    "    return om\n",
    "\n",
    "\n",
    "def isMandelbrot(c):\n",
    "    MAXIT = 500\n",
    "    x = 0\n",
    "    y = 0\n",
    "    i = 0\n",
    "    while distom(x, y) < 4 and i < MAXIT:\n",
    "        xy = suite(x, y, c[0], c[1])\n",
    "        x = xy[0]\n",
    "        y = xy[1]\n",
    "        i += 1\n",
    "    if i == MAXIT:\n",
    "        return True\n",
    "    else:\n",
    "        return False"
   ]
  },
  {
   "cell_type": "markdown",
   "id": "84793367",
   "metadata": {
    "pycharm": {
     "name": "#%% md\n"
    }
   },
   "source": [
    "Déjà ici plusieurs problèmes peuvent se poser :\n",
    "\n",
    "* Comment éviter des variables trop lourdes ?\n",
    "* Comment tandre vers l'infini pour chaque calcul de la distance ?\n",
    "\n",
    "Ces problèmes ont été plus ou moins vite résolu de notre part,\n",
    "Dans un premier temps aucune variable n'est stocké et tout est utilisé lors de la meme itération\n",
    "Dans un second temps nous n'avons pas pu tendre vers l'infini, mais celui ci a été remplacé par un nombre d'itérations assez grand : Si l'on augmente le nombre d'itérations la précision augmente\n"
   ]
  },
  {
   "cell_type": "markdown",
   "id": "201c7684",
   "metadata": {
    "pycharm": {
     "name": "#%% md\n"
    }
   },
   "source": [
    "### Modélisation\n",
    "\n",
    "Maintenant que tous nos points $C$ appartenant à la suite de Mandelbrot sont calculé il ne manque plus qu'à modéliser la fractale à l'aide de PIL\n",
    "\n",
    "Nous avons donc un repère orthonormé avec $\\vec{u} = (-2;2)$ et $\\vec{v} = (-2,2)$\n",
    "On parcourt donc chaque point $C$ du repère avec un pas $0.001$, ce qui nous donne 16000000 de point $C$ à vérifier.\n",
    "Chaque point vérifié est donc colorié en blanc sur une image de fond noir de taille 4000*4000\n",
    "\n",
    "Si l'on veut augmenter la précision on peut simplement réduire le pas et augmenter la taille de l'image\n",
    "\n",
    "Attention le programme qui suit peut-être très long et très lourd selon les ordinateurs :"
   ]
  },
  {
   "cell_type": "code",
   "execution_count": null,
   "outputs": [],
   "source": [
    "#Modélisation de la fractale de Mandelbrot complète\n",
    "def complet(taille=4000, pas=0.001, arrondi=3):\n",
    "    print(\"0%\")# Système de pourcentage de l'avancement\n",
    "    img = Image.new('RGB', (taille, taille))# Création de l'image\n",
    "    c = (-2, -2)\n",
    "    pixels = img.load()\n",
    "    while c != (2, 2): # On teste tous les points jusqu'au dernier\n",
    "        x = int(c[0] * (taille / 4) + (taille / 2))\n",
    "        y = int(c[1] * (taille / 4) + (taille / 2))\n",
    "        pct1 = int((c[0] + 2) * 100 / 4)\n",
    "        if isMandelbrot(c):\n",
    "            pixels[x, y] = (255, 255, 255) # On colorie le pixels en blanc\n",
    "        c = pointc(c[0], c[1], pas, arrondi)\n",
    "        pct2 = int((c[0] + 2) * 100 / 4)\n",
    "        if pct1 != pct2:\n",
    "            print(str(pct2) + \"%\")# Système de pourcentage de l'avancement\n",
    "    return img\n",
    "\n",
    "\n",
    "complet().show()"
   ],
   "metadata": {
    "collapsed": false,
    "pycharm": {
     "name": "#%%\n"
    }
   }
  },
  {
   "cell_type": "markdown",
   "source": [
    "Nous obtenons donc une belle image de la fractale de Mandelbrot :\n",
    "\n",
    "![Mandelbrot](Mandelbrot.png)\n",
    "\n",
    "_Cette image est un aperçu d'une image de taille 40000*40000 qui a pris plusieurs heures à être généré_\n",
    "_Des images supplémentaires sont disponibles dans un fichier à part pour pouvoir observer par vous même_"
   ],
   "metadata": {
    "collapsed": false,
    "pycharm": {
     "name": "#%% md\n"
    }
   }
  },
  {
   "cell_type": "markdown",
   "source": [
    "### Zoom\n",
    "\n",
    "Maintenant, il serait intéressant de voir si l'on peut zoomer sur un point remarquable de la fractale\n",
    "\n",
    "Pour cela, il suffit de rajouter deux fonctions :\n",
    "* Une génération de point $C$ plus précise\n",
    "* Une nouvelle fonction qui s'occupe de générer une image plus précise\n",
    "\n",
    "Ce qui nous donne :"
   ],
   "metadata": {
    "collapsed": false,
    "pycharm": {
     "name": "#%% md\n"
    }
   }
  },
  {
   "cell_type": "code",
   "execution_count": null,
   "outputs": [],
   "source": [
    "def pointczoom(x, y, pas=0.002, arrondi=3, minz =-0.1, maxz=0.1):\n",
    "    if y == maxz:\n",
    "        x = round(x + pas, arrondi)\n",
    "        y = minz\n",
    "    else:\n",
    "        y = round(y + pas, arrondi)\n",
    "    return x, y\n",
    "\n",
    "\n",
    "def zoom(taille=5000, pas=0.0000001, arrondi=7, zonex=(-1.7115, -1.711), zoney=(-0.00025, 0.00025)):\n",
    "    img = Image.new('RGB', (taille, taille))\n",
    "    c = (zonex[0], zoney[0])\n",
    "    pixels = img.load()\n",
    "    while c != (zonex[1], zoney[1]):\n",
    "        x = int(abs((zonex[0]-c[0]) * 10000000))\n",
    "        y = int(abs((zoney[0]-c[1]) * 10000000))\n",
    "        if isMandelbrot(c):\n",
    "            print(x, y)\n",
    "            pixels[x, y] = (255, 255, 255)\n",
    "        c = pointczoom(c[0], c[1], pas, arrondi, zoney[0], zoney[1])\n",
    "    return img\n",
    "\n",
    "\n",
    "zoom().show()"
   ],
   "metadata": {
    "collapsed": false,
    "pycharm": {
     "name": "#%%\n"
    }
   }
  },
  {
   "cell_type": "markdown",
   "id": "95a36aef",
   "metadata": {
    "pycharm": {
     "name": "#%% md\n"
    }
   },
   "source": [
    "Ici nous avons donc un zoom qui est effectué sur $0.005^2$ pixels\n",
    "\n",
    "Ce qui nous donne ceci :\n",
    "\n",
    "Ceci est le point sur lequel nous avons zoomé :\n",
    "\n",
    "![Endroit du zoom](endroitduzoom.png)\n",
    "\n",
    "Et ceci est le résultat du zoom :\n",
    "\n",
    "![Zoom](zoom.PNG)"
   ]
  },
  {
   "cell_type": "markdown",
   "source": [
    "___Pour plus de précisions des images sont disponibles dans un fichier à part___"
   ],
   "metadata": {
    "collapsed": false,
    "pycharm": {
     "name": "#%% md\n"
    }
   }
  },
  {
   "cell_type": "markdown",
   "source": [
    "### Avec des couleurs !\n",
    "\n",
    "En modifiant légèrement le programme on peut obtenir un joli dégradé de couleur en fonction de la précision du point :\n",
    "\n",
    "Tous les pixels sont coloriés selon cette fonction où ```res[1]``` correspond au nombre d'itérations atteint"
   ],
   "metadata": {
    "collapsed": false,
    "pycharm": {
     "name": "#%% md\n"
    }
   }
  },
  {
   "cell_type": "code",
   "execution_count": 1,
   "outputs": [
    {
     "ename": "NameError",
     "evalue": "name 'res' is not defined",
     "output_type": "error",
     "traceback": [
      "\u001B[1;31m---------------------------------------------------------------------------\u001B[0m",
      "\u001B[1;31mNameError\u001B[0m                                 Traceback (most recent call last)",
      "\u001B[1;32m~\\AppData\\Local\\Temp/ipykernel_5172/2142430863.py\u001B[0m in \u001B[0;36m<module>\u001B[1;34m\u001B[0m\n\u001B[1;32m----> 1\u001B[1;33m \u001B[0mpixels\u001B[0m\u001B[1;33m[\u001B[0m\u001B[0mx\u001B[0m\u001B[1;33m,\u001B[0m \u001B[0my\u001B[0m\u001B[1;33m]\u001B[0m \u001B[1;33m=\u001B[0m \u001B[1;33m(\u001B[0m\u001B[1;36m3\u001B[0m\u001B[1;33m*\u001B[0m\u001B[1;33m(\u001B[0m\u001B[0mres\u001B[0m\u001B[1;33m[\u001B[0m\u001B[1;36m1\u001B[0m\u001B[1;33m]\u001B[0m\u001B[1;33m/\u001B[0m\u001B[1;36m5\u001B[0m\u001B[1;33m)\u001B[0m \u001B[1;33m%\u001B[0m \u001B[1;36m256\u001B[0m\u001B[1;33m,\u001B[0m \u001B[1;36m1\u001B[0m\u001B[1;33m*\u001B[0m\u001B[1;33m(\u001B[0m\u001B[0mres\u001B[0m\u001B[1;33m[\u001B[0m\u001B[1;36m1\u001B[0m\u001B[1;33m]\u001B[0m\u001B[1;33m/\u001B[0m\u001B[1;36m5\u001B[0m\u001B[1;33m)\u001B[0m \u001B[1;33m%\u001B[0m \u001B[1;36m256\u001B[0m\u001B[1;33m,\u001B[0m \u001B[1;36m1\u001B[0m\u001B[1;33m*\u001B[0m\u001B[1;33m(\u001B[0m\u001B[0mres\u001B[0m\u001B[1;33m[\u001B[0m\u001B[1;36m1\u001B[0m\u001B[1;33m]\u001B[0m\u001B[1;33m/\u001B[0m\u001B[1;36m5\u001B[0m\u001B[1;33m)\u001B[0m \u001B[1;33m%\u001B[0m \u001B[1;36m256\u001B[0m\u001B[1;33m)\u001B[0m\u001B[1;33m\u001B[0m\u001B[1;33m\u001B[0m\u001B[0m\n\u001B[0m",
      "\u001B[1;31mNameError\u001B[0m: name 'res' is not defined"
     ]
    }
   ],
   "source": [
    "pixels[x, y] = (3*(res[1]/5) % 256, 1*(res[1]/5) % 256, 1*(res[1]/5) % 256)"
   ],
   "metadata": {
    "collapsed": false,
    "pycharm": {
     "name": "#%%\n"
    }
   }
  },
  {
   "cell_type": "markdown",
   "source": [
    "En d'autre terme, plus un nombre est proche d'appartenir à la suite de Mandelbrot, plus le pixel devient rouge.\n",
    "\n",
    "Ce qui nous donne de joli visuel comme celui ci :\n",
    "\n",
    "![Avec Couleur](aveccouleur.png)\n",
    "\n",
    "Et un zoom resemble à cela :\n",
    "\n",
    "![Zoom avec couleur](zoomcouleur.PNG)"
   ],
   "metadata": {
    "collapsed": false,
    "pycharm": {
     "name": "#%% md\n"
    }
   }
  },
  {
   "cell_type": "markdown",
   "source": [
    "# Fractale de Julia"
   ],
   "metadata": {
    "collapsed": false,
    "pycharm": {
     "name": "#%% md\n"
    }
   }
  },
  {
   "cell_type": "markdown",
   "source": [],
   "metadata": {
    "collapsed": false,
    "pycharm": {
     "name": "#%% md\n"
    }
   }
  }
 ],
 "metadata": {
  "kernelspec": {
   "display_name": "Python 3 (ipykernel)",
   "language": "python",
   "name": "python3"
  },
  "language_info": {
   "codemirror_mode": {
    "name": "ipython",
    "version": 3
   },
   "file_extension": ".py",
   "mimetype": "text/x-python",
   "name": "python",
   "nbconvert_exporter": "python",
   "pygments_lexer": "ipython3",
   "version": "3.9.7"
  }
 },
 "nbformat": 4,
 "nbformat_minor": 5
}