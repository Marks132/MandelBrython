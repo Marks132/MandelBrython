{
 "cells": [
  {
   "cell_type": "markdown",
   "id": "90ccb918",
   "metadata": {},
   "source": [
    "# <center>Fractale de Mandelbrot avec python (MandelBrython)\n",
    "#### <center>Realisé en collaboration par Hani Houmimid et Maxime Caillaud du groupe Andromeda \n",
    "\n",
    "    \n",
    "Dans le cadre de la SAE202 : Exploration algorithmique d'un problème Il nous a été demandé de réaliser un projet mathématiques et informatique. Après concertation avec notre enseignant Evariste Galois nous avons choisis de réaliser le projet Triangle et hyperbole."
   ]
  }
 ],
 "metadata": {
  "kernelspec": {
   "display_name": "Python 3 (ipykernel)",
   "language": "python",
   "name": "python3"
  },
  "language_info": {
   "codemirror_mode": {
    "name": "ipython",
    "version": 3
   },
   "file_extension": ".py",
   "mimetype": "text/x-python",
   "name": "python",
   "nbconvert_exporter": "python",
   "pygments_lexer": "ipython3",
   "version": "3.9.7"
  }
 },
 "nbformat": 4,
 "nbformat_minor": 5
}
