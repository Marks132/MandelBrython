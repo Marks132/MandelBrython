{
 "cells": [
  {
   "cell_type": "markdown",
   "source": [
    "# <center>Fractale de Mandelbrot avec python (MandelBrython)\n",
    "#### <center>Realisé en collaboration par Hani Houmimid et Maxime Caillaud du groupe Andromeda "
   ],
   "metadata": {
    "collapsed": false,
    "pycharm": {
     "name": "#%% md\n"
    }
   }
  },
  {
   "cell_type": "markdown",
   "source": [
    "## Notre sujet\n",
    "\n",
    "Ici vous sera presenté le meilleur rendu du groupe Andromeda pour la SAE 2.02 sur le sujet des fractales de Mandelbrot\n",
    "    \n",
    "Les consignes pour notre sujet sont les suivantes :\n",
    "* __Niveau de difficulté :__ ☆☆☆\n",
    "* __Description :__ Fractale de Mandelbrot\n",
    "* __Animation__: Réaliser un zoom sur un point remarquable\n",
    "\n",
    "Nous nous sommes reparti le travail comme ceci :\n",
    "* __Hani__ : Realisation compte rendu et fractale de Julia\n",
    "* __Maxime__ : Realisation du compte rendu et fractale de Mandelbrot\n",
    "\n",
    "Le travail s'est fait en équipe sur discord et nous avons eu une bonne entente tout le long du projet"
   ],
   "metadata": {
    "collapsed": false,
    "pycharm": {
     "name": "#%% md\n"
    }
   }
  },
  {
   "cell_type": "markdown",
   "source": [
    "## Début de la programmation\n",
    "\n",
    "\n",
    "La première problématique du sujet a été de trouver un librairie adequat pour afficher les fractales etant des images très complexes\n",
    "\n",
    "La solution que nous avons préféré est une librairie nommé PIL permettant de générer des images pixels par pixels de n'importe quelle taille"
   ],
   "metadata": {
    "collapsed": false,
    "pycharm": {
     "name": "#%% md\n"
    }
   }
  },
  {
   "cell_type": "markdown",
   "source": [
    "___\n",
    "# Fractale de Mandelbrot\n",
    "\n",
    "Dans cette partie nous allons nous interresser d'abord à la fractale de mandelbrot.\n",
    "\n",
    "Soit un point donné $C(x;y)$ dans un repère orthonormé $O(\\vec{u};\\vec{v})$\n",
    "Pour tout n, on construit une suite de point à partir des coordonnées de $C$,\n",
    "la suite etant defini par les relations suivantes :\n",
    "\\\n",
    "\\\n",
    "    $\\left\\{\n",
    "    \\begin{array}{rl}\n",
    "        x_0 = 0 , y_0 = 0 \\\\\n",
    "        x_n+1 = x^2_n - y^2_n + c_x \\\\\n",
    "        y_n+1 = 2x_ny_n + c_y \\\\\n",
    "    \\end{array}\n",
    "    \\right.$\n",
    "\\\n",
    "\\\n",
    "Pour determiner si le point $C$ appartient à Mandelbrot on calcul simplement la distance $OM_n$ defini par :\n",
    "\\\n",
    "$OM_n = \\sqrt{x^2_n+y^2_n}$"
   ],
   "metadata": {
    "collapsed": false,
    "pycharm": {
     "name": "#%% md\n"
    }
   }
  },
  {
   "cell_type": "markdown",
   "id": "e9d8da21",
   "metadata": {
    "pycharm": {
     "name": "#%% md\n"
    }
   },
   "source": [
    "## Notre sujet\n",
    "\n",
    "Ici vous sera presenté le meilleur rendu du groupe Andromeda pour la SAE 2.02 sur le sujet des fractales de Mandelbrot\n",
    "    \n",
    "Les consignes pour notre sujet sont les suivantes :\n",
    "* __Niveau de difficulté :__ ☆☆☆\n",
    "* __Description :__ Fractale de Mandelbrot\n",
    "* __Animation__: Réaliser un zoom sur un point remarquable\n",
    "\n",
    "Nous nous sommes reparti le travail comme ceci :\n",
    "* __Hani__ : Realisation compte rendu et fractale de Julia\n",
    "* __Maxime__ : Realisation du compte rendu et fractale de Mandelbrot\n",
    "\n",
    "Le travail s'est fait en équipe sur discord et nous avons eu une bonne entente tout le long du projet"
   ]
  },
  {
   "cell_type": "markdown",
   "id": "709414c0",
   "metadata": {
    "pycharm": {
     "name": "#%% md\n"
    }
   },
   "source": [
    "## Début de la programmation\n",
    "\n",
    "\n",
    "La première problématique du sujet a été de trouver un librairie adequat pour afficher les fractales etant des images très complexes\n",
    "\n",
    "La solution que nous avons préféré est une librairie nommé PIL permettant de générer des images pixels par pixels de n'importe quelle taille"
   ]
  }
 ],
 "metadata": {
  "kernelspec": {
   "display_name": "Python 3 (ipykernel)",
   "language": "python",
   "name": "python3"
  },
  "language_info": {
   "codemirror_mode": {
    "name": "ipython",
    "version": 3
   },
   "file_extension": ".py",
   "mimetype": "text/x-python",
   "name": "python",
   "nbconvert_exporter": "python",
   "pygments_lexer": "ipython3",
   "version": "3.9.7"
  }
 },
 "nbformat": 4,
 "nbformat_minor": 5
}